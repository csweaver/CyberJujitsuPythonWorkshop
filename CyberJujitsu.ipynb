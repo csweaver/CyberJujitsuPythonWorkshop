{
 "cells": [
  {
   "cell_type": "markdown",
   "metadata": {},
   "source": [
    "# Variables, expressions, and statements"
   ]
  },
  {
   "cell_type": "markdown",
   "metadata": {},
   "source": [
    "## Values and Types\n",
    "Values are basic things a program works with. Values come in several different types:\n",
    "* string: Is any value between quotes ('' or \"\") ex. 'Hello Coding Circle', \"I am very smart\", \"342\"\n",
    "* integer: Is any whole number, positive or negitive ex. 145, -3, 5\n",
    "* float: Is any number with a decimal point ex. 3.14, -2.5 \n",
    "\n",
    "To tell what type a value is, use the command 'type()'"
   ]
  },
  {
   "cell_type": "code",
   "execution_count": null,
   "metadata": {
    "collapsed": false
   },
   "outputs": [],
   "source": [
    "type('I am amazing!')"
   ]
  },
  {
   "cell_type": "code",
   "execution_count": null,
   "metadata": {
    "collapsed": false
   },
   "outputs": [],
   "source": [
    "type(145)"
   ]
  },
  {
   "cell_type": "code",
   "execution_count": null,
   "metadata": {
    "collapsed": false
   },
   "outputs": [],
   "source": [
    "type(2.5)"
   ]
  },
  {
   "cell_type": "markdown",
   "metadata": {},
   "source": [
    "To print a value to the screen, we use the command 'print'\n",
    "\n",
    "ex. print 1"
   ]
  },
  {
   "cell_type": "code",
   "execution_count": null,
   "metadata": {
    "collapsed": false
   },
   "outputs": [],
   "source": [
    "print \"Hello World\""
   ]
  },
  {
   "cell_type": "markdown",
   "metadata": {},
   "source": [
    "### TRY IT\n",
    "predcit and then print the type of 'Orca'"
   ]
  },
  {
   "cell_type": "code",
   "execution_count": null,
   "metadata": {
    "collapsed": false
   },
   "outputs": [],
   "source": []
  },
  {
   "cell_type": "markdown",
   "metadata": {},
   "source": [
    "## Variables\n",
    "A variable is a name that you give a value. You can then use this name anywhere you would use the value that the name refers to.\n",
    "\n",
    "The name has some rules, it must only contain letters, numbers and the underscore character ('\\_'). _(That looks like a face...)_ It also cannot start with a number. It can start with an underscore but this usually means something special, so stick to letters for now.\n",
    "\n",
    "To assign a variable you use the assignment operator: '=' ex. my_name = 'Charlotte'"
   ]
  },
  {
   "cell_type": "code",
   "execution_count": null,
   "metadata": {
    "collapsed": true
   },
   "outputs": [],
   "source": [
    "WHALE = 'Orca'\n",
    "number_of_whales = 10\n",
    "weight_of_1_whale = 5003.2"
   ]
  },
  {
   "cell_type": "markdown",
   "metadata": {},
   "source": [
    "Notice that when you ran that, nothing printed out. To print a variable, you use the same statement you would use to print the value. ex print WHALE"
   ]
  },
  {
   "cell_type": "code",
   "execution_count": null,
   "metadata": {
    "collapsed": false
   },
   "outputs": [],
   "source": [
    "print number_of_whales"
   ]
  },
  {
   "cell_type": "markdown",
   "metadata": {},
   "source": [
    "### TRY IT\n",
    "assign the name of a sea creature to the variable sea_creature. Then print the value"
   ]
  },
  {
   "cell_type": "code",
   "execution_count": null,
   "metadata": {
    "collapsed": false
   },
   "outputs": [],
   "source": []
  },
  {
   "cell_type": "markdown",
   "metadata": {},
   "source": [
    "*Reccomendation* try to name your variables with descriptive names. Naming a variable 'a' seems easy to type, but won't help you figure out what it is doing when you come back to your code six months later."
   ]
  },
  {
   "cell_type": "markdown",
   "metadata": {},
   "source": [
    "## Operators and operands\n",
    "Operators are special symbols that represent computations that the computer performs. We have already learned one operator: the assignment operator '='.\n",
    "\n",
    "Operands are the values the operator is applied to.\n",
    "\n",
    "Basic math operators\n",
    "* \\+  addition\n",
    "* \\- subtraction\n",
    "* \\* multiplication\n",
    "* / division\n",
    "* \\*\\* power (exponentiation)\n",
    "\n",
    "To use these operators, put a value or variable on either side of them. You can even assign the new value to a variable or print it out. They work with both integers or floats. "
   ]
  },
  {
   "cell_type": "code",
   "execution_count": null,
   "metadata": {
    "collapsed": false
   },
   "outputs": [],
   "source": [
    "1 + 2"
   ]
  },
  {
   "cell_type": "code",
   "execution_count": null,
   "metadata": {
    "collapsed": false
   },
   "outputs": [],
   "source": [
    "apples_left = 15 - 3\n",
    "print apples_left"
   ]
  },
  {
   "cell_type": "code",
   "execution_count": null,
   "metadata": {
    "collapsed": false
   },
   "outputs": [],
   "source": [
    "print 3 * 2.1"
   ]
  },
  {
   "cell_type": "code",
   "execution_count": null,
   "metadata": {
    "collapsed": false
   },
   "outputs": [],
   "source": [
    "number_of_whales ** 2"
   ]
  },
  {
   "cell_type": "code",
   "execution_count": null,
   "metadata": {
    "collapsed": false
   },
   "outputs": [],
   "source": [
    "print 5 / 2"
   ]
  },
  {
   "cell_type": "markdown",
   "metadata": {},
   "source": [
    "Hint: You can use a variable and assign it to the same variable name in the same statement."
   ]
  },
  {
   "cell_type": "code",
   "execution_count": null,
   "metadata": {
    "collapsed": false
   },
   "outputs": [],
   "source": [
    "number_of_whales = number_of_whales + 2 \n",
    "print number_of_whales"
   ]
  },
  {
   "cell_type": "markdown",
   "metadata": {},
   "source": [
    "### TRY IT\n",
    "Find the result of 6^18."
   ]
  },
  {
   "cell_type": "code",
   "execution_count": null,
   "metadata": {
    "collapsed": false
   },
   "outputs": [],
   "source": []
  },
  {
   "cell_type": "markdown",
   "metadata": {},
   "source": [
    "## String operations\n",
    "The + operator also works on strings. It is the concatenation operator. Meaning it joing the two strings together."
   ]
  },
  {
   "cell_type": "code",
   "execution_count": null,
   "metadata": {
    "collapsed": false
   },
   "outputs": [],
   "source": [
    "print 'Hello ' + 'Coding Circle'"
   ]
  },
  {
   "cell_type": "code",
   "execution_count": null,
   "metadata": {
    "collapsed": false
   },
   "outputs": [],
   "source": [
    "print \"The \" + WHALE + \" lives in the sea.\""
   ]
  },
  {
   "cell_type": "markdown",
   "metadata": {},
   "source": [
    "Hint: Be careful with spaces"
   ]
  },
  {
   "cell_type": "code",
   "execution_count": null,
   "metadata": {
    "collapsed": false
   },
   "outputs": [],
   "source": [
    "print \"My name is\" + \"Charlotte\""
   ]
  },
  {
   "cell_type": "markdown",
   "metadata": {},
   "source": [
    "### TRY IT\n",
    "Print out Good morning to the sea creature you stored in variable named sea_creature earlier."
   ]
  },
  {
   "cell_type": "code",
   "execution_count": null,
   "metadata": {
    "collapsed": false
   },
   "outputs": [],
   "source": []
  },
  {
   "cell_type": "markdown",
   "metadata": {},
   "source": [
    "## Comments\n",
    "Comments let you explain your progam to someone who is reading your code. Do you know who that person is? It is almost always you in six months. Don't screw over future you. Comment your code.\n",
    "\n",
    "To make a comment: you use the \\# symbol. You can put a comment on its own line or at the end of a statement."
   ]
  },
  {
   "cell_type": "code",
   "execution_count": null,
   "metadata": {
    "collapsed": false
   },
   "outputs": [],
   "source": [
    "# Calculate the price of apples that a user wants\n",
    "number_of_apples = raw_input(\"How many apples do you want?\\n\") # Ask user for quantity of apples\n",
    "number_of_apples_int = int(number_of_apples) # raw_input returns string, so convert to integer\n",
    "print number_of_apples_int * 1.05 # multiply by price of apples"
   ]
  },
  {
   "cell_type": "markdown",
   "metadata": {},
   "source": [
    "### TRY IT\n",
    "Write a comment. "
   ]
  },
  {
   "cell_type": "code",
   "execution_count": null,
   "metadata": {
    "collapsed": false
   },
   "outputs": [],
   "source": []
  },
  {
   "cell_type": "markdown",
   "metadata": {},
   "source": [
    "# Conditional Execution\n",
    "\n",
    "## Boolean Expressions\n",
    "We introduce a new type, the boolean. A boolean can have one of two values: True or False\n"
   ]
  },
  {
   "cell_type": "code",
   "execution_count": null,
   "metadata": {
    "collapsed": false
   },
   "outputs": [],
   "source": [
    "cleaned_room = True\n",
    "took_out_trash = False\n",
    "\n",
    "print cleaned_room"
   ]
  },
  {
   "cell_type": "markdown",
   "metadata": {},
   "source": [
    "You can compare values together and get a boolean result\n",
    "\n",
    "Operator         Meaning\n",
    "\n",
    "**x == y **             x equal to y\n",
    "\n",
    "**x != y**              x not equal to y\n",
    "\n",
    "**x \\>  y **            x greater than y \n",
    "\n",
    "**x < y **              x less than y\n",
    "\n",
    "**x \\>= y**             x greater than or equal to y\n",
    "\n",
    "**x <= y**              x less than or equal to y\n",
    "\n",
    "**x is  y**             x is the same as y\n",
    "\n",
    "**x is not  y**        x is not the same as y\n",
    "\n",
    "By using the operators in an expression the result evaulates to a boolean. x and y can be any type of value\n"
   ]
  },
  {
   "cell_type": "code",
   "execution_count": null,
   "metadata": {
    "collapsed": false
   },
   "outputs": [],
   "source": [
    "print 5 == 6"
   ]
  },
  {
   "cell_type": "code",
   "execution_count": null,
   "metadata": {
    "collapsed": false
   },
   "outputs": [],
   "source": [
    "print \"Hello\" != \"Goodbye\""
   ]
  },
  {
   "cell_type": "code",
   "execution_count": null,
   "metadata": {
    "collapsed": false
   },
   "outputs": [],
   "source": [
    "x = 5\n",
    "\n",
    "print 5 >= x"
   ]
  },
  {
   "cell_type": "code",
   "execution_count": null,
   "metadata": {
    "collapsed": false
   },
   "outputs": [],
   "source": [
    "print x is True"
   ]
  },
  {
   "cell_type": "markdown",
   "metadata": {},
   "source": [
    "### TRY IT\n",
    "See if 5.0000001 is greater than 5"
   ]
  },
  {
   "cell_type": "code",
   "execution_count": null,
   "metadata": {
    "collapsed": false
   },
   "outputs": [],
   "source": []
  },
  {
   "cell_type": "markdown",
   "metadata": {},
   "source": [
    "## Conditional Execution\n",
    "\n",
    "We can write programs that change their behavior depending on conditions.\n",
    "\n",
    "We use an if statement to run block of code if a condition is true. It wont run if the condition is false.\n",
    "\n",
    "    if (condition):\n",
    "        code_to_execute # if condition is true\n",
    "        \n",
    "In python indentation matters. The code to execute must be indented (4 spaces is best) more than the if condition."
   ]
  },
  {
   "cell_type": "code",
   "execution_count": null,
   "metadata": {
    "collapsed": false
   },
   "outputs": [],
   "source": [
    "# cleaned_room is true\n",
    "if cleaned_room:\n",
    "    print \"Good girl! You can watch TV.\"\n",
    "    \n",
    "# took_out_trash if false\n",
    "if took_out_trash:\n",
    "    print \"Thank you!\"\n",
    "    \n",
    "print took_out_trash"
   ]
  },
  {
   "cell_type": "markdown",
   "metadata": {},
   "source": [
    "You can include more than one statment in the block of code in the if statment. You can tell python that this code should be part of the if statment by indenting it. This is called a 'block' of code\n",
    "\n",
    "    if (condition):\n",
    "        statement1\n",
    "        statement2\n",
    "        statement3\n",
    "     \n",
    "You can tell python that the statement is not part of the if block but dedentding it to the original level\n",
    "\n",
    "    if (condition):\n",
    "        statement1\n",
    "        statement2\n",
    "    statement3 # statement3 will run even if condition is false"
   ]
  },
  {
   "cell_type": "code",
   "execution_count": null,
   "metadata": {
    "collapsed": false
   },
   "outputs": [],
   "source": [
    "# cleaned_room is true\n",
    "if cleaned_room:\n",
    "    print \"Good girl! You can watch TV.\"\n",
    "    print \"Or play outside\""
   ]
  },
  {
   "cell_type": "code",
   "execution_count": null,
   "metadata": {
    "collapsed": false
   },
   "outputs": [],
   "source": [
    "if took_out_trash:\n",
    "    print \"Thank you!\"\n",
    "    print \"You are a good helper\"\n",
    "print \"It is time for lunch\""
   ]
  },
  {
   "cell_type": "markdown",
   "metadata": {},
   "source": [
    "In alternative execution, there are two possiblities. One that happens if the condition is true, and one that happens if it is false. It is not possible to have both execute.\n",
    "\n",
    "You use if/else syntax\n",
    "\n",
    "    if (condition):\n",
    "        code_runs_if_true\n",
    "    else:\n",
    "        code_runs_if_false\n",
    "        \n",
    "Again, note the colons and spacing. These are necessary in python."
   ]
  },
  {
   "cell_type": "code",
   "execution_count": null,
   "metadata": {
    "collapsed": false
   },
   "outputs": [],
   "source": [
    "candies_taken = 4\n",
    "\n",
    "if (candies_taken < 3):\n",
    "    print 'Enjoy'\n",
    "else:\n",
    "    print 'Put some back'\n",
    "    \n"
   ]
  },
  {
   "cell_type": "markdown",
   "metadata": {},
   "source": [
    "Chained conditionals allow you to check several conditions. Only one block of code will ever run, though\n",
    "\n",
    "To run a chained conditional you use if/elif/else syntax. You can use as many elifs as you want.\n",
    "\n",
    "    if (condition1):\n",
    "        run_this_code1\n",
    "    elif (condition2):\n",
    "        run_this_code2\n",
    "    elif (condition3):\n",
    "        run_this_code3\n",
    "    else:\n",
    "        run_this_code4\n",
    "        \n",
    "You are not required to have an else block.\n",
    "   \n",
    "    if (condition1):\n",
    "        run_this_code1\n",
    "    elif (condition2):\n",
    "        run_this_code2\n",
    "        \n",
    "Each condition is checked in order. If the first is false, the next is checked, and so on. If one of them is true, the corresponding branch executes, and the statement ends. Even if more than one condition is true, only the first true branch executes."
   ]
  },
  {
   "cell_type": "code",
   "execution_count": null,
   "metadata": {
    "collapsed": false
   },
   "outputs": [],
   "source": [
    "did_homework = True\n",
    "took_out_trash = True\n",
    "cleaned_room = False\n",
    "allowance = 0\n",
    "if (cleaned_room):\n",
    "    allowance = 10\n",
    "elif (took_out_trash):\n",
    "    allowance = 5\n",
    "elif (did_homework):\n",
    "    allowance = 4\n",
    "else:\n",
    "    allowance = 2\n",
    "print allowance"
   ]
  },
  {
   "cell_type": "markdown",
   "metadata": {},
   "source": [
    "### TRY IT\n",
    "Check if did_homework is true, if so, print out \"You can play a video game\", otherwise print out \"Go get your backpack\""
   ]
  },
  {
   "cell_type": "code",
   "execution_count": null,
   "metadata": {
    "collapsed": false
   },
   "outputs": [],
   "source": []
  },
  {
   "cell_type": "markdown",
   "metadata": {},
   "source": [
    "## Logical Operators\n",
    "\n",
    "Logical operators allow you to combine two or more booleans. They are **and**, **or**, **not**"
   ]
  },
  {
   "cell_type": "raw",
   "metadata": {},
   "source": [
    "and Truth table  (only true if both values are true)\n",
    "val1  |  val2  |  val1 and val2\n",
    "true  |  true  |  true\n",
    "true  |  false |  false\n",
    "false |  true  |  false\n",
    "false |  false |  false\n",
    "\n",
    "or  Truth table  (true if at least 1 value is true)\n",
    "val1  |  val2  |  val1 or val2\n",
    "true  |  true  |  true\n",
    "true  |  false |  true\n",
    "false |  true  |  true\n",
    "false |  false |  false\n",
    "\n",
    "not Truth table (the opposite of the value)\n",
    "val1  |  not val1\n",
    "true  |  false\n",
    "false |  true"
   ]
  },
  {
   "cell_type": "code",
   "execution_count": null,
   "metadata": {
    "collapsed": false
   },
   "outputs": [],
   "source": [
    "print True and True\n",
    "\n",
    "print False or True\n",
    "\n",
    "print not False"
   ]
  },
  {
   "cell_type": "markdown",
   "metadata": {},
   "source": [
    "You can use the logical operators in if statements"
   ]
  },
  {
   "cell_type": "code",
   "execution_count": null,
   "metadata": {
    "collapsed": false
   },
   "outputs": [],
   "source": [
    "took_out_trash = False\n",
    "if (cleaned_room and took_out_trash):\n",
    "    print \"Let's go to Chuck-e-cheese\"\n",
    "else:\n",
    "    print \"Get to work!\""
   ]
  },
  {
   "cell_type": "code",
   "execution_count": null,
   "metadata": {
    "collapsed": true
   },
   "outputs": [],
   "source": [
    "if (not did_homework):\n",
    "    print \"Your going to get a bad grade.\""
   ]
  },
  {
   "cell_type": "markdown",
   "metadata": {},
   "source": [
    "### TRY IT\n",
    "Check if the room is clean or the trash is taken out and if so print \"Here is your allowance\""
   ]
  },
  {
   "cell_type": "code",
   "execution_count": null,
   "metadata": {
    "collapsed": true
   },
   "outputs": [],
   "source": []
  },
  {
   "cell_type": "markdown",
   "metadata": {},
   "source": [
    "#Lists\n",
    "\n",
    "A list is a sequence of values. These values can be anything: strings, numbers, booleans, even other lists.\n",
    "\n",
    "To make a list you put the items separated by commas between brackets []\n"
   ]
  },
  {
   "cell_type": "code",
   "execution_count": null,
   "metadata": {
    "collapsed": false
   },
   "outputs": [],
   "source": [
    "sushi_order = ['unagi', 'hamachi', 'otoro']\n",
    "prices = [6.50, 5.50, 15.75]\n",
    "print sushi_order\n",
    "print prices"
   ]
  },
  {
   "cell_type": "markdown",
   "metadata": {},
   "source": [
    "You can access a single element in a list by indexing in using brackets. List indexing starts at 0 so to get the first element, you use 0, the second element is 1 and so on.\n",
    "\n",
    "list[index]\n"
   ]
  },
  {
   "cell_type": "code",
   "execution_count": null,
   "metadata": {
    "collapsed": false
   },
   "outputs": [],
   "source": [
    "print sushi_order[0]\n",
    "print sushi_order[2]"
   ]
  },
  {
   "cell_type": "markdown",
   "metadata": {},
   "source": [
    "You can find the length of a list using len\n",
    "\n",
    "len(list)"
   ]
  },
  {
   "cell_type": "code",
   "execution_count": null,
   "metadata": {
    "collapsed": false
   },
   "outputs": [],
   "source": [
    "print len(sushi_order)"
   ]
  },
  {
   "cell_type": "markdown",
   "metadata": {},
   "source": [
    "You can use negative indexing to get the last element of a list"
   ]
  },
  {
   "cell_type": "code",
   "execution_count": null,
   "metadata": {
    "collapsed": false
   },
   "outputs": [],
   "source": [
    "print sushi_order[-1]"
   ]
  },
  {
   "cell_type": "markdown",
   "metadata": {},
   "source": [
    "## Mutable Lists\n",
    "\n",
    "Lists are mutable, that means that you can change elements. \n",
    "\n",
    "To assign a new value to an element\n",
    "\n",
    "    my_list = [1, 2, 3]\n",
    "    my_list[0] = 100"
   ]
  },
  {
   "cell_type": "code",
   "execution_count": null,
   "metadata": {
    "collapsed": false
   },
   "outputs": [],
   "source": [
    "sushi_order[0] = 'caterpillar roll'\n",
    "print sushi_order"
   ]
  },
  {
   "cell_type": "markdown",
   "metadata": {},
   "source": [
    "### TRY IT\n",
    "Update the last element in prices to be 21.00 and print out the new result"
   ]
  },
  {
   "cell_type": "code",
   "execution_count": null,
   "metadata": {
    "collapsed": true
   },
   "outputs": [],
   "source": []
  },
  {
   "cell_type": "markdown",
   "metadata": {},
   "source": [
    "## Operators and Lists\n",
    "\n",
    "The `in` operator allows you to see if an element is contained in a list"
   ]
  },
  {
   "cell_type": "code",
   "execution_count": null,
   "metadata": {
    "collapsed": false
   },
   "outputs": [],
   "source": [
    "print 'unagi' in sushi_order\n",
    "\n",
    "\n",
    "if 'otoro' in sushi_order:\n",
    "    print \"Big spender!\""
   ]
  },
  {
   "cell_type": "markdown",
   "metadata": {},
   "source": [
    "You can use some arithmatic operators on lists\n",
    "\n",
    "The `+` operator concatenates two lists\n",
    "\n",
    "The `*` operator duplicates a list that many times"
   ]
  },
  {
   "cell_type": "code",
   "execution_count": null,
   "metadata": {
    "collapsed": false
   },
   "outputs": [],
   "source": [
    "print sushi_order * 3"
   ]
  },
  {
   "cell_type": "code",
   "execution_count": null,
   "metadata": {
    "collapsed": false
   },
   "outputs": [],
   "source": [
    "print prices + sushi_order"
   ]
  },
  {
   "cell_type": "markdown",
   "metadata": {},
   "source": [
    " Remember slices from strings? We can also use the slice operator on lists"
   ]
  },
  {
   "cell_type": "code",
   "execution_count": null,
   "metadata": {
    "collapsed": false
   },
   "outputs": [],
   "source": [
    "inexpensive = sushi_order[:2]\n",
    "print inexpensive"
   ]
  },
  {
   "cell_type": "markdown",
   "metadata": {},
   "source": [
    "Don't forget, you can use the `for` and `in` keywords to loop through a list"
   ]
  },
  {
   "cell_type": "code",
   "execution_count": null,
   "metadata": {
    "collapsed": false
   },
   "outputs": [],
   "source": [
    "for item in sushi_order:\n",
    "    print \"I'd like to order the {0}.\".format(item)\n",
    "print \"And hold the wasabi\""
   ]
  },
  {
   "cell_type": "markdown",
   "metadata": {},
   "source": [
    "### TRY IT\n",
    "create an variable called lots_of_sushi that repeats the inexpensive array two times"
   ]
  },
  {
   "cell_type": "code",
   "execution_count": null,
   "metadata": {
    "collapsed": true
   },
   "outputs": [],
   "source": []
  },
  {
   "cell_type": "markdown",
   "metadata": {},
   "source": [
    "## Adding and deleting elements \n",
    "\n",
    "To add an element to a list, you have a few of options\n",
    "\n",
    "1. the append method adds an element or elements to the end of a list, if you pass it a list, the next element with be a list (making a list of lists)\n",
    "\n",
    "2. the extend method takes a list of elements and adds them all to the end, not creating a list of lists\n",
    "\n",
    "3. use the `+` operator like you saw before"
   ]
  },
  {
   "cell_type": "code",
   "execution_count": null,
   "metadata": {
    "collapsed": false
   },
   "outputs": [],
   "source": [
    "my_sushis = ['maguro', 'rock n roll']\n",
    "my_sushis.append('avacado roll')\n",
    "print my_sushis\n",
    "my_sushis.append(['hamachi', 'california roll'])\n",
    "print my_sushis"
   ]
  },
  {
   "cell_type": "code",
   "execution_count": null,
   "metadata": {
    "collapsed": false
   },
   "outputs": [],
   "source": [
    "my_sushis = ['maguro', 'rock n roll']\n",
    "my_sushis.extend(['hamachi', 'california roll'])\n",
    "print my_sushis"
   ]
  },
  {
   "cell_type": "markdown",
   "metadata": {},
   "source": [
    "You also have several options for removing elements\n",
    "\n",
    "1. the pop method takes the index of the element to remove and returns the value of the element\n",
    "\n",
    "2. the remove method takes the value of the element to remove\n",
    "\n",
    "3. the del operator deletes the element or slice of the list that you give it\n",
    "    \n",
    "    del l[1:]"
   ]
  },
  {
   "cell_type": "code",
   "execution_count": null,
   "metadata": {
    "collapsed": false
   },
   "outputs": [],
   "source": [
    "print my_sushis\n",
    "last_sushi = my_sushis.pop(-1)\n",
    "print last_sushi"
   ]
  },
  {
   "cell_type": "code",
   "execution_count": null,
   "metadata": {
    "collapsed": false
   },
   "outputs": [],
   "source": [
    "my_sushis.remove('maguro')\n",
    "print my_sushis"
   ]
  },
  {
   "cell_type": "code",
   "execution_count": null,
   "metadata": {
    "collapsed": false
   },
   "outputs": [],
   "source": [
    "del my_sushis[1:]\n",
    "print my_sushis"
   ]
  },
  {
   "cell_type": "markdown",
   "metadata": {},
   "source": [
    "### TRY IT\n",
    "Add 'rock n roll' to sushi_order and delete the first element of sushi_order"
   ]
  },
  {
   "cell_type": "code",
   "execution_count": null,
   "metadata": {
    "collapsed": true
   },
   "outputs": [],
   "source": []
  },
  {
   "cell_type": "markdown",
   "metadata": {},
   "source": [
    "## List Functions\n",
    "\n",
    "`max` will return maximum value of list\n",
    "\n",
    "`min` returns minimum value of list\n",
    "\n",
    "`sum` returns the sum of the values in a list\n",
    "\n",
    "`len` returns the number of elements in a list # Just a reminder"
   ]
  },
  {
   "cell_type": "code",
   "execution_count": null,
   "metadata": {
    "collapsed": false
   },
   "outputs": [],
   "source": [
    "numbers = [1, 1, 2, 3, 5, 8]\n",
    "\n",
    "print max(numbers)\n",
    "print min(numbers)\n",
    "print sum(numbers)\n",
    "print len(numbers)\n",
    "\n"
   ]
  },
  {
   "cell_type": "markdown",
   "metadata": {},
   "source": [
    "### TRY IT\n",
    "Find the average of numbers using list functions (and not a loop!) **HINT** Don't forget about integer vs float division"
   ]
  },
  {
   "cell_type": "code",
   "execution_count": null,
   "metadata": {
    "collapsed": true
   },
   "outputs": [],
   "source": []
  },
  {
   "cell_type": "markdown",
   "metadata": {},
   "source": [
    "# Dictionaries\n",
    "\n",
    "A dictionary is datatype that contains a series of key-value pairs. It is similar to a list except for that the indicies of the values can be strings, tuples, etc. not just integers. It is also different in that it is unordered. You cannot expect to get the keys in the same order out as you put them in.\n",
    "\n",
    "To create a dictionary:\n",
    "\n",
    "    my_dict = { key1: value1, key2: value2 }\n"
   ]
  },
  {
   "cell_type": "code",
   "execution_count": null,
   "metadata": {
    "collapsed": false
   },
   "outputs": [],
   "source": [
    "fruit_season = {\n",
    "    'raspberry': 'May',\n",
    "    'apple': 'September',\n",
    "    'peach': 'July',\n",
    "    'grape': 'August'\n",
    "} \n",
    "\n",
    "print type(fruit_season)\n",
    "print fruit_season"
   ]
  },
  {
   "cell_type": "markdown",
   "metadata": {},
   "source": [
    "To access a value you index into it similarly to a list using square brackets.\n",
    "\n",
    "    value_of_key1 = my_dict['key1'] "
   ]
  },
  {
   "cell_type": "code",
   "execution_count": null,
   "metadata": {
    "collapsed": false
   },
   "outputs": [],
   "source": [
    "raspberry_season = fruit_season['raspberry']\n",
    "print raspberry_season"
   ]
  },
  {
   "cell_type": "markdown",
   "metadata": {},
   "source": [
    "Trying to access a key not in the dictionary throws an error"
   ]
  },
  {
   "cell_type": "code",
   "execution_count": null,
   "metadata": {
    "collapsed": false
   },
   "outputs": [],
   "source": [
    "print fruit_season['mangos']"
   ]
  },
  {
   "cell_type": "markdown",
   "metadata": {},
   "source": [
    "To add an item to the dictionary set the value equal to the indexed keys\n",
    "\n",
    "    dict['new_key'] = value"
   ]
  },
  {
   "cell_type": "code",
   "execution_count": null,
   "metadata": {
    "collapsed": true
   },
   "outputs": [],
   "source": [
    "fruit_season['strawberry'] = 'May' "
   ]
  },
  {
   "cell_type": "markdown",
   "metadata": {},
   "source": [
    "To delete a key, use the del keyword\n",
    "\n",
    "    del dict['key to delete']"
   ]
  },
  {
   "cell_type": "code",
   "execution_count": null,
   "metadata": {
    "collapsed": false
   },
   "outputs": [],
   "source": [
    "del fruit_season['strawberry']\n",
    "print fruit_season"
   ]
  },
  {
   "cell_type": "markdown",
   "metadata": {},
   "source": [
    "### TRY IT\n",
    "Create a dictionary called vegitable_season with Eggplant-> July and Onion -> May"
   ]
  },
  {
   "cell_type": "code",
   "execution_count": null,
   "metadata": {
    "collapsed": true
   },
   "outputs": [],
   "source": []
  },
  {
   "cell_type": "markdown",
   "metadata": {},
   "source": [
    "## Dictionary Operators\n",
    "\n",
    "The in operator returns a boolean for whether the key is in the dictionary or not.\n",
    "\n",
    "    key in dictionary "
   ]
  },
  {
   "cell_type": "code",
   "execution_count": null,
   "metadata": {
    "collapsed": false
   },
   "outputs": [],
   "source": [
    "print 'raspberry' in fruit_season\n",
    "print 'mangos' in fruit_season"
   ]
  },
  {
   "cell_type": "markdown",
   "metadata": {},
   "source": [
    "You can use this in if statement"
   ]
  },
  {
   "cell_type": "code",
   "execution_count": null,
   "metadata": {
    "collapsed": false
   },
   "outputs": [],
   "source": [
    "if 'pinapple' in fruit_season:\n",
    "    print 'Lets eat tropical fruit'\n",
    "else:\n",
    "    print \"Temperate fruit it is.\""
   ]
  },
  {
   "cell_type": "markdown",
   "metadata": {},
   "source": [
    "### TRY IT\n",
    "Check if 'broccoli' is in vegitable_season. If so, print 'Yum, little trees!'"
   ]
  },
  {
   "cell_type": "code",
   "execution_count": null,
   "metadata": {
    "collapsed": true
   },
   "outputs": [],
   "source": []
  },
  {
   "cell_type": "markdown",
   "metadata": {},
   "source": [
    "## Dictionary Methods\n",
    "\n",
    "You can use the `keys`, `values`, or `items` metods to return lists of keys, values, or key-value tupes repectively.\n",
    "\n",
    "You can then use these for sorting or for looping"
   ]
  },
  {
   "cell_type": "code",
   "execution_count": null,
   "metadata": {
    "collapsed": false
   },
   "outputs": [],
   "source": [
    "print fruit_season.keys()\n",
    "print fruit_season.values()\n",
    "print fruit_season.items()"
   ]
  },
  {
   "cell_type": "code",
   "execution_count": null,
   "metadata": {
    "collapsed": false
   },
   "outputs": [],
   "source": [
    "for key, value in fruit_season.items():\n",
    "    print \"In {0} eat a {1}\".format(value, key)"
   ]
  },
  {
   "cell_type": "code",
   "execution_count": null,
   "metadata": {
    "collapsed": false
   },
   "outputs": [],
   "source": [
    "print sorted(fruit_season.keys())"
   ]
  },
  {
   "cell_type": "markdown",
   "metadata": {},
   "source": [
    "### TRY IT\n",
    "Loop through the sorted keys of the vegitable_season dictionary. For each key, print the month it is in season"
   ]
  },
  {
   "cell_type": "code",
   "execution_count": null,
   "metadata": {
    "collapsed": true
   },
   "outputs": [],
   "source": []
  },
  {
   "cell_type": "markdown",
   "metadata": {},
   "source": [
    "# Iterations\n",
    "\n",
    "## Updating Variables\n",
    "\n",
    "You don't need to make a new variable name every time you want to update its value (this is part of why it is called a 'variable', because its contents are variable). It is common to update a single variable.\n",
    "\n",
    "    # BAD\n",
    "    count = 0\n",
    "    count1 = count + 1\n",
    "    \n",
    "    # GOOD\n",
    "    count = 0\n",
    "    count = count + 1\n",
    "    \n",
    "    "
   ]
  },
  {
   "cell_type": "code",
   "execution_count": null,
   "metadata": {
    "collapsed": false
   },
   "outputs": [],
   "source": [
    "count = 5\n",
    "count = count + 10\n",
    "count = count - 3\n",
    "print count"
   ]
  },
  {
   "cell_type": "markdown",
   "metadata": {},
   "source": [
    "Actually it is even easier. There are special operators to add, subtract, multipy, and divide into the current variable\n",
    "\n",
    "    +=\n",
    "    -=\n",
    "    /=\n",
    "    *="
   ]
  },
  {
   "cell_type": "code",
   "execution_count": null,
   "metadata": {
    "collapsed": false
   },
   "outputs": [],
   "source": [
    "# print count\n",
    "# count += 5\n",
    "print count\n",
    "count *= 2\n",
    "print count"
   ]
  },
  {
   "cell_type": "markdown",
   "metadata": {},
   "source": [
    "### TRY IT\n",
    "assign 5 to the value of x and then in a new line add 2 to x and store the result back in x."
   ]
  },
  {
   "cell_type": "code",
   "execution_count": null,
   "metadata": {
    "collapsed": false
   },
   "outputs": [],
   "source": [
    "x = 5\n",
    "x += 2\n",
    "print x"
   ]
  },
  {
   "cell_type": "markdown",
   "metadata": {},
   "source": [
    "## While loops\n",
    "Loops are one of the most powerful feature of programming. With a loop you can make a computer do some repetitive task over and over again (is it any wonder that computers are taking our jobs?)\n",
    "\n",
    "The while loop repeats while a condition is true and stops when that condition is false\n",
    "\n",
    "    while (condition):\n",
    "        code to run\n",
    "        \n",
    "Each time a while loop runs, the condition is checked, if the condition is true, the code inside the loop runs and then it goes back and checks the condition again."
   ]
  },
  {
   "cell_type": "code",
   "execution_count": null,
   "metadata": {
    "collapsed": false
   },
   "outputs": [],
   "source": [
    "feet_of_snow = 0\n",
    "while (feet_of_snow < 3):\n",
    "    print \"Snow is falling!\"\n",
    "    feet_of_snow += 1\n",
    "print \"We got \" + str(feet_of_snow) + \" feet of snow :(\""
   ]
  },
  {
   "cell_type": "markdown",
   "metadata": {},
   "source": [
    "### TRY IT\n",
    "Write out a while loop that prints out the values 1 - 5"
   ]
  },
  {
   "cell_type": "code",
   "execution_count": null,
   "metadata": {
    "collapsed": false
   },
   "outputs": [],
   "source": [
    "count = 1\n",
    "while (count <= 5):\n",
    "    print count\n",
    "    count += 1"
   ]
  },
  {
   "cell_type": "markdown",
   "metadata": {},
   "source": [
    "## Infinite loops\n",
    "One thing you need to be careful of with while loops is the case where the condition never turns false. This means that the loop will keep going and goin forever. You'll hear your computers fan heat up and the program will hang. If you are doing any siginificant amount of programming, you will write an infinite loop, it cannot be helped. But watch out for them anyways...\n",
    "\n"
   ]
  },
  {
   "cell_type": "code",
   "execution_count": null,
   "metadata": {
    "collapsed": false
   },
   "outputs": [],
   "source": [
    "snowflakes = 0\n",
    "# This condition is never false so this will run forever \n",
    "while (snowflakes >= 0):\n",
    "    snowflakes += 1\n",
    "    \n",
    "# If you ran this by accident, press the square (stop) button to kill the loop"
   ]
  },
  {
   "cell_type": "code",
   "execution_count": null,
   "metadata": {
    "collapsed": true
   },
   "outputs": [],
   "source": [
    "# The other common infinite loop is forgetting to update to a counting variable\n",
    "count = 0\n",
    "while (count < 3):\n",
    "    print \"Let it snow!\"\n"
   ]
  },
  {
   "cell_type": "markdown",
   "metadata": {},
   "source": [
    "### TRY IT\n",
    "Don't try it, infinite loops aren't good code."
   ]
  },
  {
   "cell_type": "code",
   "execution_count": null,
   "metadata": {
    "collapsed": true
   },
   "outputs": [],
   "source": []
  },
  {
   "cell_type": "markdown",
   "metadata": {},
   "source": [
    "## Break and Continue\n",
    "There are other ways to control a loop besides it's condition.\n",
    "\n",
    "The keyword break immedietly exits a loop. With break you can write a loop without a terminating condition that is not an 'infinite loop'\n",
    "\n",
    "Continue stops that iteration of the loop and goes back to the condition check."
   ]
  },
  {
   "cell_type": "code",
   "execution_count": null,
   "metadata": {
    "collapsed": false
   },
   "outputs": [],
   "source": [
    "while True:\n",
    "    user_message = raw_input('> ')\n",
    "    if user_message == 'snow':\n",
    "        print \"I don't want to hear about that.\"\n",
    "        break\n",
    "    print \"and then what happened?\""
   ]
  },
  {
   "cell_type": "code",
   "execution_count": null,
   "metadata": {
    "collapsed": false
   },
   "outputs": [],
   "source": [
    "stock_up = ['eggs', 'milk', 'bread', 'puppies', 'cereal', 'toilet paper']\n",
    "index = 0\n",
    "while index < len(stock_up):\n",
    "    item = stock_up[index]\n",
    "    index += 1\n",
    "    if item == 'puppies':\n",
    "        print \"No! We are not getting another puppy\"\n",
    "        continue\n",
    "    print \"Storm is coming, better stock up on \" + item\n",
    "    "
   ]
  },
  {
   "cell_type": "markdown",
   "metadata": {},
   "source": [
    "## For loops\n",
    "\n",
    "For loops are a faster way of writing a common loop pattern. Many loops go through each element in a list. Python makes this easy.\n",
    "\n",
    "    for item in list:\n",
    "        run code for item"
   ]
  },
  {
   "cell_type": "code",
   "execution_count": null,
   "metadata": {
    "collapsed": false
   },
   "outputs": [],
   "source": [
    "# Lets rewrite the stock up loop as a for loop (we'll add the puppies in later)\n",
    "stock_up = ['eggs', 'milk', 'bread', 'puppies', 'cereal', 'toilet paper']\n",
    "for item in stock_up:\n",
    "    print \"Storm is coming, better stock up on \" + item\n",
    "    \n",
    "# See how much shorter it is? If you can use a for loop, use a for loop."
   ]
  },
  {
   "cell_type": "code",
   "execution_count": null,
   "metadata": {
    "collapsed": false
   },
   "outputs": [],
   "source": [
    "# Let's add the puppies condition just to show that break and continue work with for loops too\n",
    "stock_up = ['eggs', 'milk', 'bread', 'puppies', 'cereal', 'toilet paper']\n",
    "for item in stock_up:\n",
    "    if item == 'puppies':\n",
    "        print \"No! We are not getting another puppy\"\n",
    "        continue\n",
    "    print \"Storm is coming, better stock up on \" + item"
   ]
  },
  {
   "cell_type": "code",
   "execution_count": null,
   "metadata": {
    "collapsed": true
   },
   "outputs": [],
   "source": []
  },
  {
   "cell_type": "markdown",
   "metadata": {},
   "source": [
    "# Functions\n",
    "\n",
    "A function is a set of statements that you store and can run multiple times. We have already used some functions.\n",
    "\n",
    "    type(\"I've been using functions since the beginning?\")\n",
    "    \n",
    "This is a built in function called 'type'. A function takes arguements (values you put between the parentheses) and returns a result. In this case it takes the argrument of \"I've been using functions since the beginning?\" and returns the result of \"str\".\n",
    "\n",
    "## Built in Functions\n",
    "There are lots of predefined functions in python. Here are some of them\n",
    "\n",
    "    len(list) -> returns the number of items in a list\n",
    "    max(list) -> returns you the maximum value of the list (strings are lists)\n",
    "    min(list) -> returns minimum value of list\n",
    "    "
   ]
  },
  {
   "cell_type": "code",
   "execution_count": null,
   "metadata": {
    "collapsed": false
   },
   "outputs": [],
   "source": [
    "my_string = \"Howdy, welcome to my ranch?\"\n",
    "\n",
    "print len(my_string)\n",
    "print max(my_string)\n",
    "print min(my_string)"
   ]
  },
  {
   "cell_type": "markdown",
   "metadata": {},
   "source": [
    "### TRY IT\n",
    "create a string with your name and find the length and max letter of it."
   ]
  },
  {
   "cell_type": "code",
   "execution_count": null,
   "metadata": {
    "collapsed": true
   },
   "outputs": [],
   "source": []
  },
  {
   "cell_type": "markdown",
   "metadata": {},
   "source": [
    "## Type Conversion Functions\n",
    "Some of the built in functions are to convert values of one type into another.\n",
    "\n",
    "    int(value) -> converts to int\n",
    "    float(value) -> converts to float\n",
    "    str(value) -> converts to string\n",
    "    \n",
    "If the value can't be converted, the function will throw an error"
   ]
  },
  {
   "cell_type": "code",
   "execution_count": null,
   "metadata": {
    "collapsed": false
   },
   "outputs": [],
   "source": [
    "print int('5')\n",
    "print float(5)\n",
    "print str(5)\n",
    "\n",
    "# Uh-Oh\n",
    "print int('five')"
   ]
  },
  {
   "cell_type": "markdown",
   "metadata": {},
   "source": [
    "### TRY IT\n",
    "Convert the string '3.6' to a float"
   ]
  },
  {
   "cell_type": "code",
   "execution_count": null,
   "metadata": {
    "collapsed": true
   },
   "outputs": [],
   "source": []
  },
  {
   "cell_type": "markdown",
   "metadata": {},
   "source": [
    "## Modules and Random numbers\n",
    "Python includes functions to generate pseudorandom numbers. This comes in handy a surprising frequently amout of times. What is the difference between pseudorandom numbers and random numbers? If given the same seed, pseudo random numbers will come up with the same series every time.\n",
    "\n",
    "You will need to import a module to use random numbers. A module is a collection of functions, objects, and values that you can use if you bring it into your program using an import statement. Then you can access these using 'dot notation'.\n",
    "\n",
    "    import module\n",
    "    module.function()\n",
    "    module.value\n",
    "    \n",
    "The random module has a function called 'random()' that returns a random float from (0, 1]. That means including 0 but excluding 1. "
   ]
  },
  {
   "cell_type": "code",
   "execution_count": null,
   "metadata": {
    "collapsed": false
   },
   "outputs": [],
   "source": [
    "import random\n",
    "\n",
    "#Your value should be different from mine.\n",
    "print random.random()"
   ]
  },
  {
   "cell_type": "markdown",
   "metadata": {
    "collapsed": true
   },
   "source": [
    "There is also a function to generate a random integer.\n",
    "\n",
    "randint(low, high) generates a random number between low and high (including both)."
   ]
  },
  {
   "cell_type": "code",
   "execution_count": null,
   "metadata": {
    "collapsed": false
   },
   "outputs": [],
   "source": [
    "print random.randint(5,7)"
   ]
  },
  {
   "cell_type": "markdown",
   "metadata": {},
   "source": [
    "### TRY IT\n",
    "Get a random value from 1-20."
   ]
  },
  {
   "cell_type": "code",
   "execution_count": null,
   "metadata": {
    "collapsed": true
   },
   "outputs": [],
   "source": []
  },
  {
   "cell_type": "markdown",
   "metadata": {},
   "source": [
    "## Math Module\n",
    "\n",
    "The math module has more advanced math functions and constants than the arithmatic operators.\n",
    "\n",
    "Here is the full API: https://docs.python.org/2/library/math.html\n",
    "\n",
    "Constants:\n",
    "\n",
    "pi\n",
    "\n",
    "e\n",
    "\n",
    "Sample of functions:\n",
    "\n",
    "sin(x) - sine of x (radians) \n",
    "\n",
    "cos(x) - cosine of x (radians)\n",
    "\n",
    "tan(x) - tangent of x (radians)\n",
    "\n",
    "log(x) - logarithm of x (base e)\n",
    "\n",
    "floor(x) - rounds floating point number down to nearest int.\n"
   ]
  },
  {
   "cell_type": "code",
   "execution_count": null,
   "metadata": {
    "collapsed": false
   },
   "outputs": [],
   "source": [
    "import math\n",
    "\n",
    "# using constant\n",
    "radius = 5\n",
    "circumference = math.pi * 2 * radius\n",
    "print circumference\n",
    "\n",
    "# using functions\n",
    "print math.sin(0)\n",
    "print math.cos(0)"
   ]
  },
  {
   "cell_type": "markdown",
   "metadata": {},
   "source": [
    "### TRY IT\n",
    "Find the floor of 4.6732"
   ]
  },
  {
   "cell_type": "code",
   "execution_count": null,
   "metadata": {
    "collapsed": true
   },
   "outputs": [],
   "source": []
  },
  {
   "cell_type": "markdown",
   "metadata": {},
   "source": [
    "## Adding your own functions\n",
    "\n",
    "You can define your own functions using the def keyword. Defining a function does not run the lines of code within the function.\n",
    "\n",
    "    def function_name():\n",
    "       line 1\n",
    "       line 2\n",
    "   \n",
    "Once you have defined a function, you can call it and run the code within the function.\n",
    "\n",
    "    function_name()"
   ]
  },
  {
   "cell_type": "code",
   "execution_count": null,
   "metadata": {
    "collapsed": true
   },
   "outputs": [],
   "source": [
    "def yeehaw():\n",
    "    print \"YEEHAW\"\n",
    "    \n",
    "#notice that nothing is printed, the functions is not run unless you call it"
   ]
  },
  {
   "cell_type": "code",
   "execution_count": null,
   "metadata": {
    "collapsed": false
   },
   "outputs": [],
   "source": [
    "# lets call our new function\n",
    "yeehaw()"
   ]
  },
  {
   "cell_type": "markdown",
   "metadata": {},
   "source": [
    "You can call your function with in another function"
   ]
  },
  {
   "cell_type": "markdown",
   "metadata": {},
   "source": [
    "### TRY IT\n",
    "Write a function called ranch() that prints out your favorite farm animal and the noise it makes. Call your function."
   ]
  },
  {
   "cell_type": "code",
   "execution_count": null,
   "metadata": {
    "collapsed": true
   },
   "outputs": [],
   "source": []
  },
  {
   "cell_type": "markdown",
   "metadata": {},
   "source": [
    "## Parameters and arguments\n",
    "\n",
    "You can have your function take one or more variables as input, these are called arguemnets. Arguments are assigned to parameters (named variables). You can use the parameters inside the body of the function\n",
    "\n",
    "    def myfunc(parameter1, parameter2):\n",
    "        print parameter1\n",
    "        \n",
    "    myfunc('hello', 'goodbye')\n",
    "    \n",
    "\n",
    "Giving the function different arguements can change the way it behaves.\n"
   ]
  },
  {
   "cell_type": "code",
   "execution_count": null,
   "metadata": {
    "collapsed": false
   },
   "outputs": [],
   "source": [
    "def feed_animal(type_of_feed):\n",
    "    if type_of_feed == 'oats':\n",
    "        print \"Feeding the horse\"\n",
    "    elif type_of_feed == 'hay':\n",
    "        print \"Feeding the cows\"\n",
    "    else:\n",
    "        print \"Feeding the pigs\"\n",
    "        \n",
    "feed_animal('hay')\n",
    "\n",
    "feed_animal('apple')"
   ]
  },
  {
   "cell_type": "markdown",
   "metadata": {},
   "source": [
    "### TRY IT\n",
    "Create a function called pet that takes a parameter called animal. The function should print out 'Petting the ' + animal"
   ]
  },
  {
   "cell_type": "code",
   "execution_count": null,
   "metadata": {
    "collapsed": true
   },
   "outputs": [],
   "source": []
  },
  {
   "cell_type": "markdown",
   "metadata": {},
   "source": [
    "## Return\n",
    "\n",
    "Python provides the return keyword to allow you to use a value that your function produces.\n",
    "\n",
    "When you use return, you can assign the result of a function to a variable or use the function anywhere you would use that value.\n",
    "\n",
    "When you return in a function, none of the additional lines in the function executes\n",
    "\n",
    "    def myfunction():\n",
    "        return \"Hello\"\n",
    "        \n",
    "    greeting = myfunction()\n",
    "    print myfunction() + \" , world\""
   ]
  },
  {
   "cell_type": "code",
   "execution_count": null,
   "metadata": {
    "collapsed": false
   },
   "outputs": [],
   "source": [
    "def cost_of_feed(type_of_feed):\n",
    "    cost = None\n",
    "    if type_of_feed == 'oats':\n",
    "        cost = 20\n",
    "    elif type_of_feed == 'corn':\n",
    "        cost = 5\n",
    "    elif type_of_feed == 'grass':\n",
    "        return 0\n",
    "    return cost\n",
    "\n",
    "oats_cost = cost_of_feed('oats')\n",
    "\n",
    "# Now I can use this value\n",
    "oats_for_farm = 150 * oats_cost\n",
    "print \"It costs \" + str(oats_for_farm) + \" to feed 150 horses\""
   ]
  },
  {
   "cell_type": "markdown",
   "metadata": {},
   "source": [
    "### TRY IT\n",
    "Update your function ranch() from a previous try it to return the animal. Then call your function and store the result in a variable called 'animal'"
   ]
  },
  {
   "cell_type": "code",
   "execution_count": null,
   "metadata": {
    "collapsed": true
   },
   "outputs": [],
   "source": []
  },
  {
   "cell_type": "markdown",
   "metadata": {},
   "source": [
    "### Print vs. return?\n",
    "Why would I use return instead of print? If you use print, you can only use what you print once, if you use return, you can store the value and use it somewhere else. You will want to use return almost every time."
   ]
  },
  {
   "cell_type": "markdown",
   "metadata": {},
   "source": [
    "## Why functions?\n",
    "\n",
    "1. Avoid repititon: If you find you are writing the same lines of code again and again, write a function instead. Then there is only one place that you have to check for errors or make changes to.\n",
    "\n",
    "2. Clarify actions: Instead of having a long series of lines, you can place related code into a named function. Then you can call the function instead and it makes your intent clearer. ** Name your functions clearly ** a() is short to type but you'll pay for that later when you forget what it means.\n",
    "\n",
    "3. Reuse: You can create your own modules with you functions and import them into you programs. Then you only have to write some functions once."
   ]
  }
 ],
 "metadata": {
  "kernelspec": {
   "display_name": "Python 2",
   "language": "python",
   "name": "python2"
  },
  "language_info": {
   "codemirror_mode": {
    "name": "ipython",
    "version": 2
   },
   "file_extension": ".py",
   "mimetype": "text/x-python",
   "name": "python",
   "nbconvert_exporter": "python",
   "pygments_lexer": "ipython2",
   "version": "2.7.10"
  }
 },
 "nbformat": 4,
 "nbformat_minor": 0
}
